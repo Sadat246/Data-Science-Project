{
 "cells": [
  {
   "cell_type": "code",
   "execution_count": null,
   "metadata": {},
   "outputs": [],
   "source": [
    "import pandas as pd\n",
    "import matplotlib.pyplot as plt\n",
    "import numpy as np\n",
    "\n",
    "df_data = pd.read_excel('airlines.xlsx')"
   ]
  },
  {
   "cell_type": "code",
   "execution_count": null,
   "metadata": {},
   "outputs": [],
   "source": [
    "df_data.dropna(inplace=True)"
   ]
  },
  {
   "cell_type": "code",
   "execution_count": null,
   "metadata": {},
   "outputs": [],
   "source": [
    "print(df_data.isnull().sum())"
   ]
  },
  {
   "cell_type": "code",
   "execution_count": null,
   "metadata": {},
   "outputs": [],
   "source": [
    "df_data['Date_of_Journey'] = pd.to_datetime(df_data['Date_of_Journey'], format='%d/%m/%Y')\n",
    "df_data['Dep_Time'] = pd.to_datetime(df_data['Dep_Time'])\n",
    "df_data['Arrival_Time'] = pd.to_datetime(df_data['Arrival_Time'])"
   ]
  },
  {
   "cell_type": "code",
   "execution_count": null,
   "metadata": {},
   "outputs": [],
   "source": [
    "df_data['Journey_month'] = df_data['Date_of_Journey'].dt.month\n",
    "df_data['Journey_day'] = df_data['Date_of_Journey'].dt.day\n",
    "df_data['Journey_year'] = df_data['Date_of_Journey'].dt.year\n",
    "df_data['Dep_Time_hour'] = df_data['Dep_Time'].dt.hour\n",
    "df_data['Dep_Time_minute'] = df_data['Dep_Time'].dt.minute\n",
    "df_data['Arrival_Time_hour'] = df_data['Arrival_Time'].dt.hour\n",
    "df_data['Arrival_Time_minute'] = df_data['Arrival_Time'].dt.minute"
   ]
  },
  {
   "cell_type": "code",
   "execution_count": null,
   "metadata": {},
   "outputs": [],
   "source": [
    "def categorize_dep_time(hour):\n",
    "    if 4 <= hour < 8:\n",
    "        return \"Early Morning\"\n",
    "    elif 8 <= hour < 12:\n",
    "        return \"Morning\"\n",
    "    elif 12 <= hour < 16:\n",
    "        return \"Noon\"\n",
    "    elif 16 <= hour < 20:\n",
    "        return \"Evening\"\n",
    "    elif 20 <= hour < 24:\n",
    "        return \"Night\"\n",
    "    else:\n",
    "        return \"Late Night\"\n",
    "\n",
    "df_data['dep_description'] = df_data['Dep_Time_hour'].apply(categorize_dep_time)\n",
    "\n",
    "dep_counts = df_data['dep_description'].value_counts()\n",
    "dep_counts.plot(kind='bar')\n",
    "plt.xlabel('Dep_Description')\n",
    "plt.ylabel('Number of Flights')\n",
    "plt.title('Number of Flights by Departure Description')\n",
    "plt.show()\n"
   ]
  },
  {
   "cell_type": "code",
   "execution_count": null,
   "metadata": {},
   "outputs": [],
   "source": [
    "df_data['Duration'] = df_data['Arrival_Time'] - df_data['Dep_Time']\n",
    "df_data['Duration_hours'] = df_data['Duration'].dt.components.hours\n",
    "df_data['Duration_mins'] = df_data['Duration'].dt.components.minutes\n",
    "df_data['Duration_total_mins'] = df_data['Duration'].dt.total_seconds() / 60\n",
    "\n",
    "df_data[['Duration_hours', 'Duration_mins', 'Duration_total_mins']].head()"
   ]
  },
  {
   "cell_type": "code",
   "execution_count": null,
   "metadata": {},
   "outputs": [],
   "source": [
    "plt.figure(figsize=(10, 6))\n",
    "plt.scatter(df_data['Duration_total_mins'], df_data['Price'], alpha=0.5)\n",
    "\n",
    "slope, intercept = np.polyfit(df_data['Duration_total_mins'], df_data['Price'], 1)\n",
    "plt.plot(df_data['Duration_total_mins'], slope * df_data['Duration_total_mins'] + intercept, color='red')\n",
    "\n",
    "plt.xlabel('Duration_total_mins')\n",
    "plt.ylabel('Price')\n",
    "plt.title('Price vs. Duration with Regression Line')\n",
    "plt.show()\n",
    "\n",
    "\n",
    "plt.figure(figsize=(10, 6))\n",
    "stops = df_data['Total_Stops'].unique()\n",
    "\n",
    "for stop in stops:\n",
    "    subset = df_data[df_data['Total_Stops'] == stop]\n",
    "    plt.scatter(subset['Duration_total_mins'], subset['Price'], label=f'{stop} stop(s)', alpha=0.5)\n",
    "\n",
    "plt.xlabel('Duration (minutes)')\n",
    "plt.ylabel('Price')\n",
    "plt.title('Price vs. Duration by Number of Stops')\n",
    "plt.legend()\n",
    "plt.show()\n",
    "\n",
    "#Regression line: Price = -0.03 * Duration_total_mins + 8861.35"
   ]
  },
  {
   "cell_type": "code",
   "execution_count": null,
   "metadata": {},
   "outputs": [],
   "source": [
    "jet_airways_data = df_data[df_data['Airline'] == 'Jet Airways']\n",
    "\n",
    "jet_airways_data['Route'] = jet_airways_data['Source'] + ' to ' + jet_airways_data['Destination']\n",
    "most_used_routes = jet_airways_data['Route'].value_counts()\n",
    "\n",
    "plt.figure(figsize=(12, 8))\n",
    "most_used_routes.plot(kind='bar', color='skyblue')\n",
    "plt.xlabel('Route')\n",
    "plt.ylabel('Number of Flights')\n",
    "plt.title('Most Used Routes for Jet Airways')\n",
    "plt.xticks(rotation=45)\n",
    "plt.show()\n",
    "#The most used route for Jet Airways is: Delhi to Cochin"
   ]
  },
  {
   "cell_type": "code",
   "execution_count": null,
   "metadata": {},
   "outputs": [],
   "source": [
    "import patsy\n",
    "from sklearn.linear_model import LinearRegression\n",
    "from sklearn.metrics import r2_score\n",
    "\n",
    "y, X = patsy.dmatrices('Price ~ Duration_total_mins', data=df_data, return_type='dataframe')\n",
    "\n",
    "model = LinearRegression()\n",
    "model.fit(X, y)\n",
    "\n",
    "y_pred = model.predict(X)\n",
    "\n",
    "r2 = r2_score(y, y_pred)\n",
    "print(f'R² score: {r2:.4f}')\n",
    "\n",
    "plt.figure(figsize=(10, 6))\n",
    "plt.scatter(df_data['Duration_total_mins'], df_data['Price'], alpha=0.5, label='Data points')\n",
    "plt.plot(df_data['Duration_total_mins'], y_pred, color='red', label='Regression line')\n",
    "plt.xlabel('Duration (minutes)')\n",
    "plt.ylabel('Price')\n",
    "plt.title('Price vs. Duration with Regression Line (Patsy and Sklearn)')\n",
    "plt.legend()\n",
    "plt.show()\n",
    "# The low r2 value, 0.25711595260146614, indicates a weak correlation between the duration and price\n",
    "# The positive slope of the line shows a positive correlation between duration and price\n",
    "\n"
   ]
  },
  {
   "cell_type": "code",
   "execution_count": null,
   "metadata": {},
   "outputs": [],
   "source": [
    "from sklearn.model_selection import train_test_split\n",
    "df_data[\"Journey_weekday\"] = df_data[\"Date_of_Journey\"].dt.day_name()\n",
    "y, X = patsy.dmatrices('Price ~ Airline * Source * Destination * Total_Stops * dep_description * Journey_month * Journey_weekday', data=df_data, return_type='dataframe')\n",
    "\n",
    "X_train, X_test, y_train, y_test = train_test_split(X, y, test_size=0.2, random_state=42)\n",
    "\n",
    "model_complex = LinearRegression()\n",
    "model_complex.fit(X_train, y_train)\n",
    "\n",
    "y_pred_complex = model_complex.predict(X_test)\n",
    "\n",
    "r2_complex = r2_score(y_test, y_pred_complex)\n",
    "print(f'Complex model R² score: {r2_complex:.4f}')\n",
    "\n",
    "# r^2 = 0.7423319623114062\n",
    "# this r^2 is much higher than the previous r2 value found. There is a strong correlation between the variables.\n"
   ]
  },
  {
   "cell_type": "code",
   "execution_count": null,
   "metadata": {},
   "outputs": [],
   "source": [
    "y, X = patsy.dmatrices('Price ~ Airline + Source + Destination + Total_Stops + dep_description + Journey_month + Journey_weekday', data=df_data, return_type='dataframe')\n",
    "\n",
    "X_train, X_test, y_train, y_test = train_test_split(X, y, test_size=0.2, random_state=42)\n",
    "\n",
    "model_different = LinearRegression()\n",
    "model_different.fit(X_train, y_train)\n",
    "\n",
    "y_pred_different = model_different.predict(X_test)\n",
    "\n",
    "r2_different = r2_score(y_test, y_pred_different)\n",
    "print(f'Different model R² score: {r2_different:.4f}')\n"
   ]
  }
 ],
 "metadata": {
  "kernelspec": {
   "display_name": "Python 3 (ipykernel)",
   "language": "python",
   "name": "python3"
  },
  "language_info": {
   "codemirror_mode": {
    "name": "ipython",
    "version": 3
   },
   "file_extension": ".py",
   "mimetype": "text/x-python",
   "name": "python",
   "nbconvert_exporter": "python",
   "pygments_lexer": "ipython3",
   "version": "3.12.1"
  }
 },
 "nbformat": 4,
 "nbformat_minor": 4
}
